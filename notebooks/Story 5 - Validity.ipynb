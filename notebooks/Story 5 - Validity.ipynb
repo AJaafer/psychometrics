{
 "cells": [
  {
   "cell_type": "markdown",
   "metadata": {},
   "source": [
    "# SDMT Validity "
   ]
  },
  {
   "cell_type": "markdown",
   "metadata": {},
   "source": [
    "---\n",
    "## 1. Introduction"
   ]
  },
  {
   "cell_type": "markdown",
   "metadata": {
    "collapsed": true
   },
   "source": [
    "\n",
    "The concept of validity was formulated by Kelly (1927, p. 14) who stated that a test is valid if it measures what it claims to measure. For example a test of intelligence should measure intelligence and not something else (such as memory).\n",
    "\n",
    "#### Who stated that a test is valid if it measures what it claims to measure\n",
    "\n",
    "For example, the validity of a cognitive test for job performance is the correlation between test scores and, for example, supervisor performance ratings. Such a cognitive test would have predictive validity if the observed correlation were statistically significant.\n",
    "\n",
    "Rather than accuracy, validity refers to the meaning of a test score. There are multiple aspects of validity in psychometric science. Does a low score, for example, represent the presence of neuropsychological dysfunction, a particular disease state such as MS, a high likelihood of brain atrophy or some other marker of cerebral involvement, or perhaps an increased risk of failing at work? Correlations between test scores and other measures [ie validity coefficient r] and comparing differences in the performance from specified samples [eg, MS vs controls; employed vs disabled MS patients] are common methods of investigation.\n",
    "\n",
    "The BICAMS committee decided that the most important aspect of validity for clinical purposes is criterion-related validity, most notably differentiating MS patients from healthy controls. All of the BICAMS tests discriminate well with SDMT most often the most sensitive measure in NP batteries\n",
    "\n",
    "The first step is the standardisation of the test, to ensure that test stimuli and administration procedures have face validity and consistent stimulus presentation. The CSCT is presented on a computer in a consistent manner for each session. The instructions are standardised and they appear on the computer screen. The construction of the test was inspired by other well-known IPS measures, such as the digit-symbol subtests of the WAIS-R,14 the SDMT17 that ensures its face validity"
   ]
  },
  {
   "cell_type": "code",
   "execution_count": 2,
   "metadata": {},
   "outputs": [],
   "source": [
    "import sys\n",
    "import pandas as pd\n",
    "import numpy as np\n",
    "import matplotlib.pyplot as plt\n",
    "import scipy.stats as stats\n",
    "import warnings\n",
    "warnings.filterwarnings('ignore')\n",
    "%matplotlib inline"
   ]
  },
  {
   "cell_type": "code",
   "execution_count": 3,
   "metadata": {},
   "outputs": [
    {
     "name": "stdout",
     "output_type": "stream",
     "text": [
      "/Users/pedrohserrano/neuroscience/notebooks\r\n"
     ]
    }
   ],
   "source": [
    "!pwd"
   ]
  },
  {
   "cell_type": "code",
   "execution_count": 4,
   "metadata": {},
   "outputs": [],
   "source": [
    "sys.path.insert(0, '/Users/pedrohserrano/neuroscience/utils') #internal packages\n",
    "import buildms as ms \n",
    "import statsms as stms\n",
    "color_ms = '#386cb0' #blue, This is the color chosen for patients with Multiple Sclerosis\n",
    "color_hc = 'red'#This is the color chosen for health control participants"
   ]
  },
  {
   "cell_type": "markdown",
   "metadata": {},
   "source": [
    "##### Recommended Step-by-Step Protocol for BICAMS Validation"
   ]
  },
  {
   "cell_type": "markdown",
   "metadata": {},
   "source": [
    "**Step 1, Standardization and Translation of Test Stimuli**  \n",
    "For visual stimuli, determine if there are any semantic associations to stimuli in the culture or language under consideration. For CVLT2 must match new words on word frequency and appropriate similarity ofmeaning. If these parameters cannot be applied scientifically, then ex- pert review andperformance on test by appropriate partici- pants will be utilized to assess translation"
   ]
  },
  {
   "cell_type": "markdown",
   "metadata": {},
   "source": [
    "**Step 2, Standardization and Translation of Test  Instructions**  \n",
    "All information from the testmanual necessary for administration and interpretation must be translated, back translated,and checked for errors. Where possible the translated instructions should be validated againstexpected participant performance in terms of accuracy and error profile. Step 4 will also contribute to the accuracy of the test instructions "
   ]
  },
  {
   "cell_type": "markdown",
   "metadata": {},
   "source": [
    "**Step 3, Normalization**  \n",
    "Large samples of 150 or more healthy persons are needed for data applicable to persons of all ages and diverse ethnicity. The minimum sample size is 65 healthy volunteers, provided they are group matched on demographics to either a concurrent MS sample, or matched to samples in other published descriptive MS studies. Where possible, the distribution of test scores and error profile of the normalization sample shouldbe examined and compared to published distributions from other language groups"
   ]
  },
  {
   "cell_type": "markdown",
   "metadata": {},
   "source": [
    "**Step 4, Test-Retest Reliability**  \n",
    "Assessment of this criterion can be achieved by evaluatingan MS and/or healthy volunteer sample on two occasions separated by 1–3 weeks. This is thegold standard separation where the question is only test reliability, controlling for maturation effects. A Pearson’s correlation coefficient >0.70 will usually be required. "
   ]
  },
  {
   "cell_type": "markdown",
   "metadata": {},
   "source": [
    "**Step 5, Criterion-Related Validity**  \n",
    "This step can be pursued in conjunction with Step 3, inthat an MS sample can be compared to a healthy control group that also serves for normalization. To determine if a new Italian BVMTR is sensitive to MS disease state, for example, compare 50 patients to the healthy controls in Step 3. After the study, the investigator adds another 35 healthy volunteers to round out the normalization sample"
   ]
  },
  {
   "cell_type": "markdown",
   "metadata": {},
   "source": [
    "Step 1 and 2 = True (The test it is performed in an application on a controled group  \n",
    "Step 4 = True (The study was driven on the last stories), Step 3= Datapoints count? 246,23\n",
    "Step 5 = Predictive"
   ]
  },
  {
   "cell_type": "markdown",
   "metadata": {},
   "source": [
    "--- \n",
    "##### Loading Datasets"
   ]
  },
  {
   "cell_type": "code",
   "execution_count": 5,
   "metadata": {},
   "outputs": [
    {
     "name": "stdout",
     "output_type": "stream",
     "text": [
      "Percetnage of missing values: 26.309124185727793\n",
      "Max answers: 61\n",
      "Min score: 7 Max score: 67 Mean score: 45.861979166666664\n",
      "Percentage of MS in Dataset: 65.0 %\n",
      "... Dataset df_measures_users.csv created\n",
      "... Dataset df_measures.csv created\n",
      "... Dataset df_symbols.csv created\n"
     ]
    }
   ],
   "source": [
    "!python ~/neuroscience/utils/create_dataset.py ~/neuroscience/data/processed/dataset.csv"
   ]
  },
  {
   "cell_type": "code",
   "execution_count": 6,
   "metadata": {},
   "outputs": [],
   "source": [
    "df_measures = pd.read_csv('../data/interim/df_measures.csv', encoding=\"utf-8\")"
   ]
  },
  {
   "cell_type": "code",
   "execution_count": 7,
   "metadata": {},
   "outputs": [],
   "source": [
    "df_measures_users = pd.read_csv('../data/interim/df_measures_users.csv', encoding=\"utf-8\")"
   ]
  },
  {
   "cell_type": "markdown",
   "metadata": {},
   "source": [
    "---\n",
    "## 2. Methods"
   ]
  },
  {
   "cell_type": "markdown",
   "metadata": {},
   "source": [
    "In order to prove validity, we need to be able to predict who is an MS person\n",
    "\n",
    "##### Predictive validity\n",
    "This is the degree to which a test accurately predicts a criterion that will occur in the future. For example, a prediction may be made on the basis of a new intelligence test, that high scorers at age 12 will be more likely to obtain university degrees several years later. If the prediction is born out then the test has predictive validity."
   ]
  },
  {
   "cell_type": "markdown",
   "metadata": {},
   "source": [
    "### 2.1 Predict MS Via Classification"
   ]
  },
  {
   "cell_type": "code",
   "execution_count": 8,
   "metadata": {},
   "outputs": [
    {
     "name": "stderr",
     "output_type": "stream",
     "text": [
      "/Users/pedrohserrano/.pyenv/versions/3.4.2/lib/python3.4/site-packages/sklearn/cross_validation.py:41: DeprecationWarning: This module was deprecated in version 0.18 in favor of the model_selection module into which all the refactored classes and functions are moved. Also note that the interface of the new CV iterators are different from that of this module. This module will be removed in 0.20.\n",
      "  \"This module will be removed in 0.20.\", DeprecationWarning)\n"
     ]
    }
   ],
   "source": [
    "from sklearn.model_selection import train_test_split\n",
    "from sklearn import preprocessing\n",
    "from sklearn import metrics\n",
    "from sklearn.metrics import roc_curve, auc\n",
    "from sklearn.cross_validation import cross_val_score"
   ]
  },
  {
   "cell_type": "markdown",
   "metadata": {},
   "source": [
    "We choose 3 different features that help to distinguish an MS person\n",
    "   - Score of Correct Answers\n",
    "   - Number of Distraction Points\n",
    "   - Median Time of Response in Miliseconds"
   ]
  },
  {
   "cell_type": "code",
   "execution_count": 9,
   "metadata": {},
   "outputs": [],
   "source": [
    "X = df_measures[['correct.answers','distract_points','response_ms_med']]\n",
    "y = df_measures['ms']"
   ]
  },
  {
   "cell_type": "code",
   "execution_count": 10,
   "metadata": {},
   "outputs": [],
   "source": [
    "X_train, X_test, y_train, y_test = train_test_split(X, y, test_size=0.33,random_state=4)"
   ]
  },
  {
   "cell_type": "code",
   "execution_count": 11,
   "metadata": {},
   "outputs": [
    {
     "name": "stdout",
     "output_type": "stream",
     "text": [
      "             precision    recall  f1-score   support\n",
      "\n",
      "        0.0       0.82      0.38      0.51        24\n",
      "        1.0       0.79      0.97      0.87        58\n",
      "\n",
      "avg / total       0.80      0.79      0.76        82\n",
      "\n",
      "Accuracy: 0.79\n"
     ]
    }
   ],
   "source": [
    "# k-Nearest Neighbor\n",
    "from sklearn.neighbors import KNeighborsClassifier\n",
    "clf = KNeighborsClassifier()\n",
    "clf.fit(X_train, y_train)\n",
    "print(metrics.classification_report(y_test, clf.predict(X_test)))\n",
    "print('Accuracy: {}'.format(round(clf.score(X_test, y_test),2)))"
   ]
  },
  {
   "cell_type": "code",
   "execution_count": 12,
   "metadata": {},
   "outputs": [
    {
     "name": "stdout",
     "output_type": "stream",
     "text": [
      "             precision    recall  f1-score   support\n",
      "\n",
      "        0.0       0.64      0.67      0.65        24\n",
      "        1.0       0.86      0.84      0.85        58\n",
      "\n",
      "avg / total       0.80      0.79      0.79        82\n",
      "\n",
      "Accuracy: 0.79\n"
     ]
    }
   ],
   "source": [
    "# Gaussian Naive Bayes\n",
    "from sklearn.naive_bayes import GaussianNB\n",
    "clf = GaussianNB()\n",
    "clf.fit(X_train, y_train)\n",
    "print(metrics.classification_report(y_test, clf.predict(X_test)))\n",
    "print('Accuracy: {}'.format(round(clf.score(X_test, y_test),2)))"
   ]
  },
  {
   "cell_type": "code",
   "execution_count": 13,
   "metadata": {},
   "outputs": [
    {
     "name": "stdout",
     "output_type": "stream",
     "text": [
      "             precision    recall  f1-score   support\n",
      "\n",
      "        0.0       0.92      0.50      0.65        24\n",
      "        1.0       0.83      0.98      0.90        58\n",
      "\n",
      "avg / total       0.85      0.84      0.82        82\n",
      "\n",
      "Accuracy: 0.84\n"
     ]
    }
   ],
   "source": [
    "# Logistic Regression\n",
    "from sklearn.linear_model import LogisticRegression\n",
    "clf = LogisticRegression()\n",
    "clf.fit(X_train, y_train)\n",
    "print(metrics.classification_report(y_test, clf.predict(X_test)))\n",
    "print('Accuracy: {}'.format(round(clf.score(X_test, y_test),2)))"
   ]
  },
  {
   "cell_type": "code",
   "execution_count": 14,
   "metadata": {},
   "outputs": [
    {
     "name": "stdout",
     "output_type": "stream",
     "text": [
      "ROC AUC: 0.8024425287356323\n"
     ]
    },
    {
     "data": {
      "image/png": "[encoded data removed]",
      "text/plain": [
       "<matplotlib.figure.Figure at 0x10b3c4780>"
      ]
     },
     "metadata": {},
     "output_type": "display_data"
    }
   ],
   "source": [
    "plt.figure(figsize=(12, 6))\n",
    "plt.plot([0, 1], [0, 1], 'k--'); plt.xlim([0.0, 1.0]); plt.ylim([0.0, 1.05])\n",
    "# Determine the false positive and true positive rates\n",
    "fpr, tpr, _ = roc_curve(y_test, clf.predict_proba(X_test)[:,1])\n",
    "roc_auc = auc(fpr, tpr)\n",
    "plt.plot(fpr, tpr, color='red', label='ROC curve (area = %0.2f)' % roc_auc)\n",
    "print ('ROC AUC: {}'.format(roc_auc))\n",
    "\n",
    "plt.xlabel('1-Specificity')\n",
    "plt.ylabel('Recall, Sensitivity')\n",
    "plt.legend(loc=\"lower right\")\n",
    "plt.savefig('../reports/roc_logistic.png')"
   ]
  },
  {
   "cell_type": "markdown",
   "metadata": {},
   "source": [
    "### 2.2 Scores Point Estimate"
   ]
  },
  {
   "cell_type": "code",
   "execution_count": 15,
   "metadata": {},
   "outputs": [],
   "source": [
    "## MS Person\n",
    "import scipy.stats as stats\n",
    "score_variable = 'correct.answers'"
   ]
  },
  {
   "cell_type": "code",
   "execution_count": 16,
   "metadata": {},
   "outputs": [],
   "source": [
    "df_ms = df_measures[df_measures['ms']==1][['userId','correct.answers','ms']]\n",
    "ms_norm = stats.norm(df_ms[score_variable].mean(), df_ms[score_variable].std())\n",
    "ms_sample = ms_norm.rvs(10000)\n",
    "\n",
    "df_hc = df_measures[df_measures['ms']==0][['userId','correct.answers','ms']]\n",
    "hc_norm = stats.norm(df_hc[score_variable].mean(), df_hc[score_variable].std())\n",
    "hc_sample = hc_norm.rvs(10000)"
   ]
  },
  {
   "cell_type": "code",
   "execution_count": 17,
   "metadata": {},
   "outputs": [
    {
     "data": {
      "text/plain": [
       "<matplotlib.legend.Legend at 0x10b4afef0>"
      ]
     },
     "execution_count": 17,
     "metadata": {},
     "output_type": "execute_result"
    },
    {
     "data": {
      "image/png": "[encoded data removed]",
      "text/plain": [
       "<matplotlib.figure.Figure at 0x10b45c9e8>"
      ]
     },
     "metadata": {},
     "output_type": "display_data"
    }
   ],
   "source": [
    "fig = plt.figure(figsize=(20,10))\n",
    "N=100 #number of elements randomly grab with replacement\n",
    "M=100 #number of bootsraps\n",
    "\n",
    "means, intervals = stms.Intervals(df_ms[score_variable]).create_int(N,M) #ms_sample)\n",
    "plt.errorbar(x=np.arange(0.1, M, 1), y=means, yerr=[(top-bot)/2 for top,bot in intervals], \n",
    "             color=color_ms,fmt='o', label='MS')\n",
    "plt.hlines(xmin=0, xmax=M, y=df_ms[score_variable].mean(), color=color_ms, linestyles='--')\n",
    "\n",
    "means, intervals = stms.Intervals(df_hc[score_variable]).create_int(N,M) #hc_sample)\n",
    "plt.errorbar(x=np.arange(0.1, M, 1), y=means, yerr=[(top-bot)/2 for top,bot in intervals], \n",
    "             color=color_hc,fmt='o', label='HC')\n",
    "plt.hlines(xmin=0, xmax=M, y=df_hc[score_variable].mean(), color=color_hc, linestyles='--')\n",
    "\n",
    "plt.xlabel('Score Inference')\n",
    "plt.xlabel('Experiments')\n",
    "plt.legend(loc='best')"
   ]
  },
  {
   "cell_type": "markdown",
   "metadata": {},
   "source": [
    "We found a person needs 16 trials to find out wich group represent its score, MS or HC"
   ]
  },
  {
   "cell_type": "code",
   "execution_count": 18,
   "metadata": {},
   "outputs": [
    {
     "name": "stdout",
     "output_type": "stream",
     "text": [
      "Point estimator on 10k Norms: \n",
      " MS: 44.7634404668414 (SD 8.57704510777825) \n",
      " HC: 52.92220854327721 (SD 8.636651871921169) \n",
      " Tradeoff: 48.842824505059305\n"
     ]
    }
   ],
   "source": [
    "#Run a Bootstrap with 100 Experiments\n",
    "print('Point estimator on 10k Norms: \\n MS: {} (SD {}) \\n HC: {} (SD {}) \\n Tradeoff: {}'.format(\n",
    "ms_sample.mean(), ms_sample.std(), hc_sample.mean(), hc_sample.std(), (ms_sample.mean()+hc_sample.mean())/2)) "
   ]
  },
  {
   "cell_type": "code",
   "execution_count": 19,
   "metadata": {},
   "outputs": [],
   "source": [
    "imp_value = (ms_sample.mean()+hc_sample.mean())/2\n",
    "impairment = df_measures[df_measures[score_variable] < imp_value]\n",
    "not_imp = df_measures[df_measures[score_variable] >= imp_value]"
   ]
  },
  {
   "cell_type": "code",
   "execution_count": 20,
   "metadata": {},
   "outputs": [],
   "source": [
    "#True Positives\n",
    "tp = impairment['ms'].sum()\n",
    "tn = len(not_imp) - not_imp['ms'].sum()\n",
    "fn = not_imp['ms'].sum()\n",
    "fp = len(impairment) - impairment['ms'].sum()"
   ]
  },
  {
   "cell_type": "code",
   "execution_count": 21,
   "metadata": {},
   "outputs": [
    {
     "name": "stdout",
     "output_type": "stream",
     "text": [
      "Performance: \n",
      " Accuracy: 0.67 \n",
      " Sensitivity: 0.66 \n",
      " Specificity: 0.69\n"
     ]
    }
   ],
   "source": [
    "accu = (tp+tn)/len(df_measures)\n",
    "sens = tp/(tp+fn)\n",
    "spec = tn/ (tn+fp)\n",
    "print('Performance: \\n Accuracy: {} \\n Sensitivity: {} \\n Specificity: {}'.format(\n",
    "    round(accu,2), round(sens,2), round(spec,2) ))"
   ]
  },
  {
   "cell_type": "markdown",
   "metadata": {},
   "source": [
    "Point estimate still not that good as classification methods"
   ]
  },
  {
   "cell_type": "markdown",
   "metadata": {},
   "source": [
    "---\n",
    "## 3. Results"
   ]
  },
  {
   "cell_type": "markdown",
   "metadata": {
    "collapsed": true
   },
   "source": [
    "|Source|Accuracy | Specificity | Sensitivity |\n",
    "|:---:|:---:|:---:|:---:|\n",
    "|Akbar 2011 | 0.78 | 0.84 | 0.71 |\n",
    "|Ruet 2013 | 0.77 | 0.85 | 0.60  | \n",
    "|Van Schependom 2014 | NA | 0.60 | 0.91 |\n",
    "|**Study**|\n",
    "|Inference|0.67|0.69|0.66|\n",
    "|k-NN|0.79|0.80|0.79|\n",
    "|Naive Bayes|0.79|0.80|0.79|\n",
    "|Logistic|0.84|0.85|0.84|\n"
   ]
  },
  {
   "cell_type": "markdown",
   "metadata": {
    "collapsed": true
   },
   "source": [
    "The general performance is acceptable, and at some point better than the references, tryying more type of validity is going to make clear the complete validity of the test\n",
    "\n",
    "The next steps should be try concurrent validity correlating scores on MS people with impairment data, job information or fMRI results"
   ]
  }
 ],
 "metadata": {
  "kernelspec": {
   "display_name": "Python 3",
   "language": "python",
   "name": "python3"
  },
  "language_info": {
   "codemirror_mode": {
    "name": "ipython",
    "version": 3
   },
   "file_extension": ".py",
   "mimetype": "text/x-python",
   "name": "python",
   "nbconvert_exporter": "python",
   "pygments_lexer": "ipython3",
   "version": "3.4.2"
  }
 },
 "nbformat": 4,
 "nbformat_minor": 2
}
