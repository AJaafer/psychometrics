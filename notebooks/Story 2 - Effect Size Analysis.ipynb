{
 "cells": [
  {
   "cell_type": "markdown",
   "metadata": {},
   "source": [
    "# Effect Size Analysis"
   ]
  },
  {
   "cell_type": "markdown",
   "metadata": {
    "collapsed": true
   },
   "source": [
    "### 1.  Introduction\n",
    "Define with hypothesis tests what kind of difference in effect we want to prove\n",
    "- d-cohen between ms and hc\n",
    "- d-cohen time of the day, morning vs afternoon\n",
    "- d-cohen practice effect, do the people learn after certain time? k weeks? x number of tests later?"
   ]
  },
  {
   "cell_type": "markdown",
   "metadata": {},
   "source": [
    "In statistics, an effect size is a quantitative measure of the strength of a phenomenon.[1] Examples of effect sizes are the correlation between two variables, the regression coefficient in a regression, the mean difference, or even the risk with which something happens, such as how many people survive after a heart attack for every one person that does not survive. For each type of effect size, a larger absolute value always indicates a stronger effect [here](https://en.wikipedia.org/wiki/Effect_size)"
   ]
  },
  {
   "cell_type": "code",
   "execution_count": 3,
   "metadata": {},
   "outputs": [],
   "source": [
    "import sys\n",
    "import pandas as pd\n",
    "import numpy as np #si\n",
    "import matplotlib as mpl\n",
    "import matplotlib.pyplot as plt\n",
    "import matplotlib.dates as mdates\n",
    "from datetime import datetime, timedelta\n",
    "from scipy import stats #usamos\n",
    "from math import *\n",
    "from dateutil.parser import parse as parse_datetime\n",
    "import warnings\n",
    "warnings.filterwarnings('ignore')\n",
    "%matplotlib inline"
   ]
  },
  {
   "cell_type": "code",
   "execution_count": 4,
   "metadata": {},
   "outputs": [],
   "source": [
    "from ggplot import *\n",
    "from math import *"
   ]
  },
  {
   "cell_type": "code",
   "execution_count": 5,
   "metadata": {},
   "outputs": [
    {
     "name": "stdout",
     "output_type": "stream",
     "text": [
      "/Users/pedrohserrano/neuroscience/notebooks\r\n"
     ]
    }
   ],
   "source": [
    "!pwd"
   ]
  },
  {
   "cell_type": "code",
   "execution_count": 6,
   "metadata": {},
   "outputs": [],
   "source": [
    "sys.path.insert(0, '/Users/pedrohserrano/neuroscience/utils') #internal packages\n",
    "import buildms as ms \n",
    "import statsms as stms\n",
    "color_ms = '#386cb0' #blue, This is the color chosen for patients with Multiple Sclerosis\n",
    "color_hc = 'red'#This is the color chosen for health control participants"
   ]
  },
  {
   "cell_type": "markdown",
   "metadata": {},
   "source": [
    "---\n",
    "### 1.1 Datasets"
   ]
  },
  {
   "cell_type": "code",
   "execution_count": 7,
   "metadata": {
    "scrolled": true
   },
   "outputs": [
    {
     "name": "stdout",
     "output_type": "stream",
     "text": [
      "Percetnage of missing values: 26.309124185727793\n",
      "Max answers: 61\n",
      "Min score: 7 Max score: 67 Mean score: 45.861979166666664\n",
      "Percentage of MS in Dataset: 65.0 %\n",
      "... Dataset df_measures_users.csv created\n",
      "... Dataset df_measures.csv created\n",
      "... Dataset df_symbols.csv created\n"
     ]
    }
   ],
   "source": [
    "!python ~/neuroscience/utils/create_dataset.py ~/neuroscience/data/processed/dataset.csv"
   ]
  },
  {
   "cell_type": "code",
   "execution_count": 8,
   "metadata": {},
   "outputs": [],
   "source": [
    "df_measures = pd.read_csv('../data/interim/df_measures.csv', encoding=\"utf-8\")"
   ]
  },
  {
   "cell_type": "code",
   "execution_count": 9,
   "metadata": {},
   "outputs": [],
   "source": [
    "df_measures_users = pd.read_csv('../data/interim/df_measures_users.csv', encoding=\"utf-8\")"
   ]
  },
  {
   "cell_type": "code",
   "execution_count": 10,
   "metadata": {},
   "outputs": [
    {
     "data": {
      "text/html": [
       "<div>\n",
       "<style>\n",
       "    .dataframe thead tr:only-child th {\n",
       "        text-align: right;\n",
       "    }\n",
       "\n",
       "    .dataframe thead th {\n",
       "        text-align: left;\n",
       "    }\n",
       "\n",
       "    .dataframe tbody tr th {\n",
       "        vertical-align: top;\n",
       "    }\n",
       "</style>\n",
       "<table border=\"1\" class=\"dataframe\">\n",
       "  <thead>\n",
       "    <tr style=\"text-align: right;\">\n",
       "      <th></th>\n",
       "      <th>userId</th>\n",
       "      <th>correct.answers</th>\n",
       "      <th>total.answers</th>\n",
       "      <th>accuracy.rate</th>\n",
       "      <th>avg_test_ms</th>\n",
       "      <th>hour</th>\n",
       "      <th>ms</th>\n",
       "      <th>events</th>\n",
       "      <th>correct.answers_median</th>\n",
       "      <th>timestamp</th>\n",
       "      <th>distract_points</th>\n",
       "    </tr>\n",
       "  </thead>\n",
       "  <tbody>\n",
       "    <tr>\n",
       "      <th>0</th>\n",
       "      <td>3ZJxRxNFMbsihHc9n</td>\n",
       "      <td>46.571429</td>\n",
       "      <td>46.785714</td>\n",
       "      <td>0.995363</td>\n",
       "      <td>3739.428571</td>\n",
       "      <td>16.000000</td>\n",
       "      <td>1.0</td>\n",
       "      <td>14</td>\n",
       "      <td>47.5</td>\n",
       "      <td>2017-06-01 10:18:49.461</td>\n",
       "      <td>1.357143</td>\n",
       "    </tr>\n",
       "    <tr>\n",
       "      <th>1</th>\n",
       "      <td>3sLik5kugaynxduWs</td>\n",
       "      <td>58.888889</td>\n",
       "      <td>59.222222</td>\n",
       "      <td>0.993975</td>\n",
       "      <td>2961.222222</td>\n",
       "      <td>14.555556</td>\n",
       "      <td>0.0</td>\n",
       "      <td>9</td>\n",
       "      <td>57.0</td>\n",
       "      <td>2017-07-01 11:19:43.217</td>\n",
       "      <td>1.444444</td>\n",
       "    </tr>\n",
       "    <tr>\n",
       "      <th>2</th>\n",
       "      <td>6tzxzhSYpdi74TZth</td>\n",
       "      <td>57.000000</td>\n",
       "      <td>57.818182</td>\n",
       "      <td>0.985656</td>\n",
       "      <td>3053.090909</td>\n",
       "      <td>16.000000</td>\n",
       "      <td>1.0</td>\n",
       "      <td>11</td>\n",
       "      <td>56.0</td>\n",
       "      <td>2017-06-28 15:59:05.888</td>\n",
       "      <td>0.636364</td>\n",
       "    </tr>\n",
       "    <tr>\n",
       "      <th>3</th>\n",
       "      <td>7wCDFJMaqeZnFT93S</td>\n",
       "      <td>52.444444</td>\n",
       "      <td>53.444444</td>\n",
       "      <td>0.981066</td>\n",
       "      <td>3259.777778</td>\n",
       "      <td>16.222222</td>\n",
       "      <td>1.0</td>\n",
       "      <td>9</td>\n",
       "      <td>52.0</td>\n",
       "      <td>2017-07-07 17:24:13.736</td>\n",
       "      <td>1.000000</td>\n",
       "    </tr>\n",
       "    <tr>\n",
       "      <th>4</th>\n",
       "      <td>9BjE8bBgbi878bLbK</td>\n",
       "      <td>54.500000</td>\n",
       "      <td>54.833333</td>\n",
       "      <td>0.994017</td>\n",
       "      <td>3191.000000</td>\n",
       "      <td>11.083333</td>\n",
       "      <td>1.0</td>\n",
       "      <td>12</td>\n",
       "      <td>55.0</td>\n",
       "      <td>2017-06-15 10:26:06.894</td>\n",
       "      <td>0.583333</td>\n",
       "    </tr>\n",
       "  </tbody>\n",
       "</table>\n",
       "</div>"
      ],
      "text/plain": [
       "              userId  correct.answers  total.answers  accuracy.rate  \\\n",
       "0  3ZJxRxNFMbsihHc9n        46.571429      46.785714       0.995363   \n",
       "1  3sLik5kugaynxduWs        58.888889      59.222222       0.993975   \n",
       "2  6tzxzhSYpdi74TZth        57.000000      57.818182       0.985656   \n",
       "3  7wCDFJMaqeZnFT93S        52.444444      53.444444       0.981066   \n",
       "4  9BjE8bBgbi878bLbK        54.500000      54.833333       0.994017   \n",
       "\n",
       "   avg_test_ms       hour   ms  events  correct.answers_median  \\\n",
       "0  3739.428571  16.000000  1.0      14                    47.5   \n",
       "1  2961.222222  14.555556  0.0       9                    57.0   \n",
       "2  3053.090909  16.000000  1.0      11                    56.0   \n",
       "3  3259.777778  16.222222  1.0       9                    52.0   \n",
       "4  3191.000000  11.083333  1.0      12                    55.0   \n",
       "\n",
       "                 timestamp  distract_points  \n",
       "0  2017-06-01 10:18:49.461         1.357143  \n",
       "1  2017-07-01 11:19:43.217         1.444444  \n",
       "2  2017-06-28 15:59:05.888         0.636364  \n",
       "3  2017-07-07 17:24:13.736         1.000000  \n",
       "4  2017-06-15 10:26:06.894         0.583333  "
      ]
     },
     "execution_count": 10,
     "metadata": {},
     "output_type": "execute_result"
    }
   ],
   "source": [
    "df_measures_users.head()"
   ]
  },
  {
   "cell_type": "markdown",
   "metadata": {
    "collapsed": true
   },
   "source": [
    "## 2. Methods"
   ]
  },
  {
   "cell_type": "markdown",
   "metadata": {},
   "source": [
    "##### Cohen's effect size\n",
    "\n",
    "There is one other common way to express the difference between distributions.  Cohen's $d$ is the difference in means, standardized by dividing by the standard deviation.  Here's the math notation:\n",
    "\n",
    "$$ d = \\frac{\\bar{x}_1 - \\bar{x}_2} s $$\n",
    "\n",
    "where $s$ is the pooled standard deviation:\n",
    "\n",
    "$$s = \\sqrt{\\frac{(n_1-1)s^2_1 + (n_2-1)s^2_2}{n_1+n_2 - 2}}$$\n"
   ]
  },
  {
   "cell_type": "code",
   "execution_count": 11,
   "metadata": {},
   "outputs": [],
   "source": [
    "score_variable = 'correct.answers'"
   ]
  },
  {
   "cell_type": "markdown",
   "metadata": {},
   "source": [
    "### 2.1 Difference of Groups"
   ]
  },
  {
   "cell_type": "markdown",
   "metadata": {},
   "source": [
    "Split the patients MS (Multiple Sclerosis) and HC (Health Control)"
   ]
  },
  {
   "cell_type": "code",
   "execution_count": 12,
   "metadata": {},
   "outputs": [
    {
     "name": "stdout",
     "output_type": "stream",
     "text": [
      "Average Score of MS Group: 46.22 (SD 7.88)\n"
     ]
    }
   ],
   "source": [
    "summary_ms = df_measures_users[df_measures_users['ms']==1][score_variable].describe()\n",
    "print('Average Score of MS Group: {} (SD {})'.format(\n",
    "    round(summary_ms.loc['mean'],2), round(summary_ms.loc['std'],2)))"
   ]
  },
  {
   "cell_type": "code",
   "execution_count": 13,
   "metadata": {},
   "outputs": [
    {
     "name": "stdout",
     "output_type": "stream",
     "text": [
      "Average Score of HC Group: 52.92 (SD 8.22)\n"
     ]
    }
   ],
   "source": [
    "summary_hc = df_measures_users[df_measures_users['ms']==0][score_variable].describe()\n",
    "print('Average Score of HC Group: {} (SD {})'.format(\n",
    "    round(summary_hc.loc['mean'],2), round(summary_hc.loc['std'],2)))  "
   ]
  },
  {
   "cell_type": "code",
   "execution_count": 14,
   "metadata": {},
   "outputs": [
    {
     "name": "stdout",
     "output_type": "stream",
     "text": [
      "Cohen`s d-value: 0.837\n"
     ]
    }
   ],
   "source": [
    "cohens_d = stms.dCohen(df_measures_users[df_measures_users['ms']==1][score_variable],\n",
    "                       df_measures_users[df_measures_users['ms']==0][score_variable]).effect_size()\n",
    "print('Cohen`s d-value: {}'.format(round(cohens_d,3)))"
   ]
  },
  {
   "cell_type": "markdown",
   "metadata": {},
   "source": [
    "|Study|Difference Value|Benchmark|\n",
    "|---|---|---|\n",
    "|Benedict 2016 | $d=1.11$ | Large (Cohen, 1988)|\n",
    "|**Study 2017**| $d=0.837$ |Large (Cohen, 1988)|"
   ]
  },
  {
   "cell_type": "markdown",
   "metadata": {},
   "source": [
    "There's a significative difference between the scores performed on MS against HC, we are able to say that those are groups with different characteristics"
   ]
  },
  {
   "cell_type": "markdown",
   "metadata": {},
   "source": [
    "What d-Cohen means is that if there was no difference between the two groups, that is, they are the same, then the probability of guessing which of the two groups comes from just seeing their scores would be that of a flown, Or 50%, then the bigger the d is made, the clearer it is to see the difference of the scores just guessing"
   ]
  },
  {
   "cell_type": "markdown",
   "metadata": {},
   "source": [
    "### 2.2 Difference on Time of the Day"
   ]
  },
  {
   "cell_type": "markdown",
   "metadata": {},
   "source": [
    "Is there any difference if the participants respond in the morning or in the afternoon?"
   ]
  },
  {
   "cell_type": "code",
   "execution_count": 15,
   "metadata": {},
   "outputs": [
    {
     "data": {
      "image/png": "[encoded data removed]",
      "text/plain": [
       "<matplotlib.figure.Figure at 0x108446710>"
      ]
     },
     "metadata": {},
     "output_type": "display_data"
    }
   ],
   "source": [
    "plt.figure(figsize=[15, 5])\n",
    "\n",
    "times = pd.Series(df_measures[df_measures['ms']==1]['timestamp']).map(\n",
    "    lambda x: '{:02}:00'.format(parse_datetime(str(x)).hour))\n",
    "time_counts = times.value_counts().sort_index()\n",
    "relative = time_counts/time_counts.sum()\n",
    "relative.plot(kind='bar', width=0.8, alpha=0.7, color=color_ms, label='MS')\n",
    "\n",
    "times = pd.Series(df_measures[df_measures['ms']==0]['timestamp']).map(\n",
    "    lambda x: '{:02}:00'.format(parse_datetime(str(x)).hour))\n",
    "time_counts = times.value_counts().sort_index()\n",
    "relative = time_counts/time_counts.sum()\n",
    "relative.plot(kind='bar', width=0.8, alpha=0.5, color=color_hc, label='HC')\n",
    "\n",
    "plt.xlabel('Times on the day')\n",
    "plt.ylabel('Frequency')\n",
    "plt.legend()\n",
    "plt.show()"
   ]
  },
  {
   "cell_type": "code",
   "execution_count": 16,
   "metadata": {},
   "outputs": [
    {
     "name": "stdout",
     "output_type": "stream",
     "text": [
      "The half percent of the distribution, median: 15.0\n"
     ]
    }
   ],
   "source": [
    "# This is the tradeoff to decide morning and afternoon\n",
    "print('The half percent of the distribution, median: {}'.format(df_measures['hour'].median()))"
   ]
  },
  {
   "cell_type": "markdown",
   "metadata": {},
   "source": [
    "Split two groups, Morning and Afternoon of MS and HC subgroup"
   ]
  },
  {
   "cell_type": "code",
   "execution_count": 17,
   "metadata": {},
   "outputs": [],
   "source": [
    "df_ms = df_measures[df_measures['ms']==1]\n",
    "df_hc = df_measures[df_measures['ms']==0]"
   ]
  },
  {
   "cell_type": "code",
   "execution_count": 18,
   "metadata": {},
   "outputs": [],
   "source": [
    "m_ms = df_ms[df_ms['hour'] < df_ms['hour'].median()]\n",
    "a_ms = df_ms[df_ms['hour'] >= df_ms['hour'].median()]\n",
    "m_hc = df_hc[df_hc['hour'] < df_hc['hour'].median()]\n",
    "a_hc = df_hc[df_hc['hour'] >= df_hc['hour'].median()]"
   ]
  },
  {
   "cell_type": "code",
   "execution_count": 19,
   "metadata": {},
   "outputs": [
    {
     "name": "stdout",
     "output_type": "stream",
     "text": [
      "Cohen´s d-value: \n",
      " MS: 0.209 \n",
      " HC: 0.133\n"
     ]
    }
   ],
   "source": [
    "d1 = stms.dCohen(m_ms[score_variable], a_ms[score_variable]).effect_size()\n",
    "d2 = stms.dCohen(m_hc[score_variable], a_hc[score_variable]).effect_size()\n",
    "print('Cohen´s d-value: \\n MS: {} \\n HC: {}'.format(round(d1,3),round(d2,3)))"
   ]
  },
  {
   "cell_type": "code",
   "execution_count": 20,
   "metadata": {},
   "outputs": [
    {
     "data": {
      "image/png": "[encoded data removed]",
      "text/plain": [
       "<matplotlib.figure.Figure at 0x108adcdd8>"
      ]
     },
     "metadata": {},
     "output_type": "display_data"
    },
    {
     "name": "stdout",
     "output_type": "stream",
     "text": [
      "MS Morning: 45.7 (SD 7.61)\n",
      "MS Afternoon: 43.92 (SD 9.33)\n",
      "HC Morning: 52.36 (SD 8.82)\n",
      "HC Afternoon: 53.53 (SD 8.68)\n"
     ]
    }
   ],
   "source": [
    "from scipy import stats\n",
    "plt.figure(figsize=(15, 5))\n",
    "\n",
    "norm1 = stats.norm(m_ms[score_variable].mean(), m_ms[score_variable].std())\n",
    "xs, ys = stms.MSstats(norm1).eval_pdf()\n",
    "plt.plot(xs, ys, label='MS Morning', linewidth=3, color=color_ms, alpha=0.3)\n",
    "plt.vlines(x=m_ms[score_variable].mean(),ymin=0,ymax=max(ys), color=color_ms, linestyles='--')\n",
    "\n",
    "norm2 = stats.norm(a_ms[score_variable].mean(), a_ms[score_variable].std())\n",
    "xs, ys = stms.MSstats(norm2).eval_pdf()\n",
    "plt.plot(xs, ys, label='MS Afternoon', linewidth=2, color=color_ms)\n",
    "plt.vlines(x=a_ms[score_variable].mean(),ymin=0,ymax=max(ys), color=color_ms, linestyles='--')\n",
    "\n",
    "norm3 = stats.norm(m_hc[score_variable].mean(), m_hc[score_variable].std())\n",
    "xs, ys = stms.MSstats(norm3).eval_pdf()\n",
    "plt.plot(xs, ys, label='HC Morning', linewidth=3, color=color_hc, alpha=0.3)\n",
    "plt.vlines(x=m_hc[score_variable].mean(),ymin=0,ymax=max(ys), color=color_hc, linestyles='--')\n",
    "\n",
    "norm4 = stats.norm(a_hc[score_variable].mean(), a_hc[score_variable].std())\n",
    "xs, ys = stms.MSstats(norm4).eval_pdf()\n",
    "plt.plot(xs, ys, label='HC Afternoon', linewidth=2, color=color_hc)\n",
    "plt.vlines(x=a_hc[score_variable].mean(),ymin=0,ymax=max(ys), color=color_hc, linestyles='--')\n",
    "\n",
    "\n",
    "plt.xlabel('Scores Distribution'); plt.legend(loc='best'); plt.show()\n",
    "print('MS Morning: {} (SD {})'.format(round(m_ms[score_variable].mean(),2), round(m_ms[score_variable].std(),2)))\n",
    "print('MS Afternoon: {} (SD {})'.format(round(a_ms[score_variable].mean(),2), round(a_ms[score_variable].std(),2)))\n",
    "print('HC Morning: {} (SD {})'.format(round(m_hc[score_variable].mean(),2), round(m_hc[score_variable].std(),2)))\n",
    "print('HC Afternoon: {} (SD {})'.format(round(a_hc[score_variable].mean(),2), round(a_hc[score_variable].std(),2)))"
   ]
  },
  {
   "cell_type": "markdown",
   "metadata": {},
   "source": [
    "There's not significance difference between means, so it means that a person is going to score alike no matter the moment on the day. But in the other hand is clearly to see that respond in the morning for MS group is presumably less variance"
   ]
  },
  {
   "cell_type": "markdown",
   "metadata": {},
   "source": [
    "##### F - test Variance Difference"
   ]
  },
  {
   "cell_type": "markdown",
   "metadata": {},
   "source": [
    "$$F={\\frac  {S_{X}^{2}}{S_{Y}^{2}}}$$\n",
    "\n",
    "Has an F-distribution with n − 1 and m − 1 degrees of freedom if the null hypothesis of equality of variances is true. Otherwise it has a non-central F-distribution. The null hypothesis is rejected if F is either too large or too small."
   ]
  },
  {
   "cell_type": "code",
   "execution_count": 21,
   "metadata": {},
   "outputs": [],
   "source": [
    "F_ms = m_ms[score_variable].var() / a_ms[score_variable].var()\n",
    "degrees1ms = len(m_ms[score_variable]) -1\n",
    "degrees2ms = len(a_ms[score_variable]) -1"
   ]
  },
  {
   "cell_type": "code",
   "execution_count": 22,
   "metadata": {},
   "outputs": [
    {
     "name": "stdout",
     "output_type": "stream",
     "text": [
      "Difference in Variance for MS: 66.52%  p-value: 0.028578312903474887\n"
     ]
    }
   ],
   "source": [
    "print('Difference in Variance for MS: {}%  p-value: {}'.format(\n",
    "    round(F_ms*100,2), stats.f.cdf(F_ms, degrees1ms, degrees2ms)))"
   ]
  },
  {
   "cell_type": "code",
   "execution_count": 23,
   "metadata": {},
   "outputs": [],
   "source": [
    "#F_hc = m_hc[score_variable].var() / a_hc[score_variable].var()\n",
    "F_hc = a_hc[score_variable].var() / m_hc[score_variable].var()\n",
    "degrees1hc = len(m_hc[score_variable]) -1\n",
    "degrees2hc = len(a_hc[score_variable]) -1"
   ]
  },
  {
   "cell_type": "code",
   "execution_count": 24,
   "metadata": {},
   "outputs": [
    {
     "name": "stdout",
     "output_type": "stream",
     "text": [
      "Difference in Variance for HC: 97.0%  p-value: 0.4664223119264743\n"
     ]
    }
   ],
   "source": [
    "print('Difference in Variance for HC: {}%  p-value: {}'.format(\n",
    "    round(F_hc*100,2), stats.f.cdf(F_hc, degrees1hc, degrees2hc)))"
   ]
  },
  {
   "cell_type": "markdown",
   "metadata": {},
   "source": [
    "There's an statistical significant difference between the variance between morning and afternoon on MS group, it means that people perform more constant over the time if they respond in the morning, in the other hand, it shows also a big difference for HC, but we got a big p-value, so we cannot reject the null hypothesis for HC group"
   ]
  },
  {
   "cell_type": "markdown",
   "metadata": {},
   "source": [
    "## 3. Results"
   ]
  },
  {
   "cell_type": "markdown",
   "metadata": {},
   "source": [
    "The international standars as follows"
   ]
  },
  {
   "cell_type": "markdown",
   "metadata": {},
   "source": [
    "| Effect size\t| $d$-value\t| Reference |\n",
    "|--|--|--|\n",
    "| Very small | 0.01\t| Sawilowsky, 2009|\n",
    "|Small|\t0.20\t|Cohen, 1988|\n",
    "|Medium|\t0.50|\tCohen, 1988|\n",
    "|Large|\t0.80|\tCohen, 1988|\n",
    "|Very large|\t1.20|\tSawilowsky, 2009|\n",
    "|Huge|\t2.0|\tSawilowsky, 2009|\n"
   ]
  },
  {
   "cell_type": "markdown",
   "metadata": {},
   "source": [
    "Summary table of the results"
   ]
  },
  {
   "cell_type": "markdown",
   "metadata": {},
   "source": [
    "|Measure Difference|Group 1| Group 2|Cohens d-value|Effect Size|\n",
    "|---|---|---|---|\n",
    "|Mean Score MS vs HC | MS: 46.22 (SD 7.88)| HC: 52.92 (SD 8.22)|$d=0.837$|Large|\n",
    "|Morning vs Afternoon MS | Morning: 45.7 (SD 7.61)| Afternoon: 43.92 (SD 9.33)|$d=0.209 $|Small|\n",
    "|Morning vs Afternoon HC | Morning: 52.36 (SD 8.82)| Afternoon: 53.53 (SD 8.68)|$d=0.228$|Small|\n",
    "|Practicing Effect MS | 1rs Test: 41.67 (SD 9.0)| 2nd Test: 46.2 (SD 8.13)|$d=0.529$|Medium|\n",
    "|Practicing Effect HC | 1rs Test: 45.62 (SD 7.98)|2nd Test: 53.5 (SD 7.76)|$d=1.00$|Large|"
   ]
  },
  {
   "cell_type": "markdown",
   "metadata": {},
   "source": [
    "- There's a Large difference of scores between MS and HC, we might consider as a different populations  \n",
    "- There's a Small difference of scores between responding in the morning and afternoon, we might say that perform the test without regarding the time of the day it will be the same results.\n",
    "- There's a Medium practicing effect on MS group, in the other hand there's a Large practicing effect on HC It seems they learn the test"
   ]
  },
  {
   "cell_type": "markdown",
   "metadata": {},
   "source": [
    "|Difference in Variance| F-test| p-value|\n",
    "|---|---|---|\n",
    "|MS Morning vs Afternoon | F = 77.84% | p=0.11|\n",
    "|HC Morning vs Afternoon | F = 101.53% | p=0.50|"
   ]
  },
  {
   "cell_type": "markdown",
   "metadata": {},
   "source": [
    "- We reject the null hypothesis on MS group, so it means that there is 68% greater the variance of scores if the patients respond in the morning, rather than the afternoon.\n",
    "- In the other hand we can not reject the null hypothesis on the HC group because there's no much data points, that means that we might not say anything about how late the participant in HC perform the test"
   ]
  }
 ],
 "metadata": {
  "kernelspec": {
   "display_name": "Python 3",
   "language": "python",
   "name": "python3"
  },
  "language_info": {
   "codemirror_mode": {
    "name": "ipython",
    "version": 3
   },
   "file_extension": ".py",
   "mimetype": "text/x-python",
   "name": "python",
   "nbconvert_exporter": "python",
   "pygments_lexer": "ipython3",
   "version": "3.4.2"
  }
 },
 "nbformat": 4,
 "nbformat_minor": 2
}
